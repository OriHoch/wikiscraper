{
 "cells": [
  {
   "cell_type": "markdown",
   "metadata": {},
   "source": [
    "# Zionist archive"
   ]
  },
  {
   "cell_type": "markdown",
   "metadata": {},
   "source": [
    "Watermarks were removed and are available on Google Storage data/zio/remove_watermarks/\n",
    "\n",
    "Locally, files were deleted that were not suitable - e.g. containing text / borders\n",
    "\n",
    "### Create the details_removed_watermark package\n",
    "\n",
    "This package is committed in final-data so you don't need to recreate it"
   ]
  },
  {
   "cell_type": "code",
   "execution_count": 4,
   "metadata": {},
   "outputs": [
    {
     "name": "stdout",
     "output_type": "stream",
     "text": [
      "data already exists, delete final-data/zio/details_removed_watermark/datapackage.json to recreate\n"
     ]
    }
   ],
   "source": [
    "import os\n",
    "from glob import glob\n",
    "from collections import defaultdict\n",
    "from dataflows import Flow, load, dump_to_path\n",
    "from datapackage import Package\n",
    "\n",
    "DETAILS_REMOVED_WATERMARK_FINAL_DATA_PATH = 'final-data/zio/details_removed_watermark'\n",
    "REMOVED_WATERMARK_FILES_PATH = 'data/zio/remove_watermark/files'\n",
    "DETAILS_URL_PREFIX = 'http://www.zionistarchives.org.il/Pages/'\n",
    "SCRAPE_DETAILS_DATAPACKAGE_JSON = 'final-data/zio/scrape_details/datapackage.json'\n",
    "\n",
    "if os.path.exists(f'{DETAILS_REMOVED_WATERMARK_FINAL_DATA_PATH}/datapackage.json'):\n",
    "    print(f'data already exists, delete {DETAILS_REMOVED_WATERMARK_FINAL_DATA_PATH}/datapackage.json to recreate')\n",
    "else:\n",
    "    valid_rownums=[int(f.split('_')[2].split('.')[0]) for f in glob(f'{REMOVED_WATERMARK_FILES_PATH}/*') \n",
    "                   if f.startswith(f'{REMOVED_WATERMARK_FILES_PATH}/rownum_')]\n",
    "    stats = defaultdict(int)\n",
    "\n",
    "    def process_rows(rows):\n",
    "        do_it = rows.res.name == 'zio_details'\n",
    "        for rownum,row in enumerate(rows):\n",
    "            if do_it:\n",
    "                if rownum in valid_rownums:\n",
    "                    row['rownum'] = rownum\n",
    "                    details_url = row['details_url']\n",
    "                    row['details_url'] = f'{DETAILS_URL_PREFIX}{details_url}'\n",
    "                    row['removed_watermark_file'] = f'{REMOVED_WATERMARK_FILES_PATH}/rownum_{rownum}.png'\n",
    "                    stats['rows_with_valid_photo'] += 1\n",
    "                    yield row\n",
    "                else:\n",
    "                    stats['rows_with_invalid_photo'] += 1\n",
    "            else:\n",
    "                yield row\n",
    "\n",
    "\n",
    "    def update_descriptor(package):\n",
    "        package_descriptor = package.pkg.descriptor\n",
    "        for resource_descriptor in package_descriptor['resources']:\n",
    "            if resource_descriptor['name'] == 'zio_details':\n",
    "                resource_descriptor['schema']['fields'].append({'name': 'removed_watermark_file', 'type': 'string'})\n",
    "        yield Package(package_descriptor)\n",
    "        yield from package\n",
    "\n",
    "\n",
    "    print(Flow(load(SCRAPE_DETAILS_DATAPACKAGE_JSON), process_rows, update_descriptor, \n",
    "               dump_to_path(DETAILS_REMOVED_WATERMARK_FINAL_DATA_PATH)).process()[1])\n",
    "    print(dict(stats))"
   ]
  },
  {
   "cell_type": "code",
   "execution_count": null,
   "metadata": {},
   "outputs": [],
   "source": []
  }
 ],
 "metadata": {
  "kernelspec": {
   "display_name": "Python 3",
   "language": "python",
   "name": "python3"
  },
  "language_info": {
   "codemirror_mode": {
    "name": "ipython",
    "version": 3
   },
   "file_extension": ".py",
   "mimetype": "text/x-python",
   "name": "python",
   "nbconvert_exporter": "python",
   "pygments_lexer": "ipython3",
   "version": "3.6.3"
  }
 },
 "nbformat": 4,
 "nbformat_minor": 2
}
